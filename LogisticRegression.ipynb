{
 "cells": [
  {
   "cell_type": "code",
   "execution_count": null,
   "metadata": {},
   "outputs": [],
   "source": [
    "#Solve ToxicDetection through feature engineer into logistic regression\n",
    "# Reference this tutorial for the logistic regression: \n",
    "##  https://www.kaggle.com/negation/pytorch-logistic-regression-tutorial\n",
    "%load_ext autoreload\n",
    "%autoreload 2\n"
   ]
  },
  {
   "cell_type": "code",
   "execution_count": null,
   "metadata": {
    "scrolled": true
   },
   "outputs": [],
   "source": [
    "#Input Data needs to be in array of size N x (2)\n",
    "import utils \n",
    "import numpy as np\n",
    "import pandas as pd\n",
    "import os\n",
    "import torch\n",
    "from torch import nn\n",
    "USE_GPU = True\n",
    "\n",
    "if USE_GPU and torch.cuda.is_available():\n",
    "    device = torch.device('cuda')\n",
    "else:\n",
    "    device = torch.device('cpu')\n",
    "\n"
   ]
  },
  {
   "cell_type": "code",
   "execution_count": null,
   "metadata": {},
   "outputs": [],
   "source": [
    "pd.set_option('display.max_colwidth', -1)\n",
    "root_dir = os.path.abspath('.')\n",
    "data_dir = os.path.join(root_dir, 'dataset')\n",
    "train = pd.read_csv(os.path.join(data_dir,'train.csv'))\n",
    "test = pd.read_csv(os.path.join(data_dir, 'test.csv'))\n",
    "\n",
    "\n",
    "train_x, train_y = utils.featurize(train)\n",
    "#test_x, test_y = utils.featurize(test)\n",
    "\n"
   ]
  },
  {
   "cell_type": "code",
   "execution_count": null,
   "metadata": {
    "collapsed": true
   },
   "outputs": [],
   "source": [
    "\n",
    "\n",
    "class LogisticRegression(nn.Module):\n",
    "    def __init__(self, input_size, num_classes=2):\n",
    "        super(LogisticRegression, self).__init__()\n",
    "        self.linear = nn.Linear(input_size, num_classes)\n",
    "    \n",
    "    def forward(self, x):\n",
    "        print(\"Input coming in as\", x.shape)\n",
    "        return self.linear(x)\n",
    "        "
   ]
  },
  {
   "cell_type": "code",
   "execution_count": null,
   "metadata": {},
   "outputs": [],
   "source": [
    "#train on data_train with several epochs\n",
    "epochs = 20 #Can also be changed. The higher this value, the more overfit. \n",
    "feature_dims = 21\n",
    "batchSize = 64\n",
    "classes = 6 #Binaray for toxic, or not\n",
    "model = LogisticRegression(feature_dims, num_classes=classes)\n",
    "model = model.cuda() #COMMENT OUT TO RUN ON GPU\n",
    "#Todo: set loss criterion and optimizer\n",
    "#Run loop of number of epoch, forward and backpass, loss then into optimizer\n",
    "lossFn = nn.CrossEntropyLoss()\n",
    "optimizer = torch.optim.SGD(model.parameters(), lr = 1e-3)\n",
    "\n",
    "#Training\n",
    "for epoch in range(epochs):\n",
    "    sampleIdx = np.random.choice(np.arange(len(train_y)), batchSize, replace=False)\n",
    "    x_s = torch.from_numpy(train_x[sampleIdx]).float().to(device)\n",
    "    y_s = torch.from_numpy(train_y[sampleIdx]).to(device)\n",
    "    #for i in range(batchSize): \n",
    "        #print(x_s[i].shape, y_s[i].shape)\n",
    "    optimizer.zero_grad()\n",
    "    scores = model(x_s)\n",
    "    print(scores.shape, y_s.shape)\n",
    "    loss = lossFn(scores, y_s)\n",
    "    loss.backward()\n",
    "    optimizer.step()\n",
    "        \n",
    "\n",
    "\n",
    "    \n"
   ]
  },
  {
   "cell_type": "code",
   "execution_count": null,
   "metadata": {
    "collapsed": true
   },
   "outputs": [],
   "source": [
    "#TODO:\n",
    "#Optimize hyperparameters like batchsize, or learning rate or\n",
    "#Try to add dropout, batch normalization to get highest val acc"
   ]
  },
  {
   "cell_type": "code",
   "execution_count": null,
   "metadata": {
    "collapsed": true
   },
   "outputs": [],
   "source": [
    "#TODO: \n",
    "#Now try test set, hopefully for accuracy as good as validation set"
   ]
  },
  {
   "cell_type": "code",
   "execution_count": null,
   "metadata": {
    "collapsed": true
   },
   "outputs": [],
   "source": []
  },
  {
   "cell_type": "code",
   "execution_count": null,
   "metadata": {
    "collapsed": true
   },
   "outputs": [],
   "source": []
  }
 ],
 "metadata": {
  "kernelspec": {
   "display_name": "Python 3",
   "language": "python",
   "name": "python3"
  },
  "language_info": {
   "codemirror_mode": {
    "name": "ipython",
    "version": 3
   },
   "file_extension": ".py",
   "mimetype": "text/x-python",
   "name": "python",
   "nbconvert_exporter": "python",
   "pygments_lexer": "ipython3",
   "version": "3.6.2"
  }
 },
 "nbformat": 4,
 "nbformat_minor": 2
}
