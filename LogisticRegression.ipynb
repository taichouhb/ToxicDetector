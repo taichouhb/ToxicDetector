{
 "cells": [
  {
   "cell_type": "code",
   "execution_count": 1,
   "metadata": {
    "collapsed": true
   },
   "outputs": [],
   "source": [
    "#Solve ToxicDetection through feature engineer into logistic regression\n",
    "# Reference this tutorial for the logistic regression: \n",
    "##  https://www.kaggle.com/negation/pytorch-logistic-regression-tutorial\n",
    "%load_ext autoreload\n",
    "%autoreload 2\n"
   ]
  },
  {
   "cell_type": "code",
   "execution_count": 28,
   "metadata": {
    "scrolled": true
   },
   "outputs": [],
   "source": [
    "#Input Data needs to be in array of size N x (2)\n",
    "import utils \n",
    "import numpy as np\n",
    "import pandas as pd\n",
    "import os\n",
    "pd.set_option('display.max_colwidth', -1)\n",
    "root_dir = os.path.abspath('.')\n",
    "data_dir = os.path.join(root_dir, 'dataset')\n",
    "train = pd.read_csv(os.path.join(data_dir,'train.csv'))\n",
    "test = pd.read_csv(os.path.join(data_dir, 'test.csv'))\n",
    "\n",
    "input = train\n",
    "train_x, train_y = utils.featurize(input)\n",
    "\n"
   ]
  },
  {
   "cell_type": "code",
   "execution_count": 31,
   "metadata": {
    "scrolled": true
   },
   "outputs": [
    {
     "name": "stdout",
     "output_type": "stream",
     "text": [
      "159571 159571\n",
      "0    Explanation\\nWhy the edits made under my username Hardcore Metallica Fan were reverted? They weren't vandalisms, just closure on some GAs after I voted at New York Dolls FAC. And please don't remove the template from the talk page since I'm retired now.89.205.38.27\n",
      "Name: comment_text, dtype: object [0 0 0 0 0 0 0 0 0 0 0 0 0 0 3] <class 'numpy.ndarray'>\n",
      "1    D'aww! He matches this background colour I'm seemingly stuck with. Thanks.  (talk) 21:51, January 11, 2016 (UTC)\n",
      "Name: comment_text, dtype: object [0 0 0 0 0 0 0 1 0 0 0 0 0 1 0] <class 'numpy.ndarray'>\n",
      "2    Hey man, I'm really not trying to edit war. It's just that this guy is constantly removing relevant information and talking to me through edits instead of my talk page. He seems to care more about the formatting than the actual info.\n",
      "Name: comment_text, dtype: object [0 0 0 0 0 0 0 0 0 0 0 0 0 0 2] <class 'numpy.ndarray'>\n",
      "3    \"\\nMore\\nI can't make any real suggestions on improvement - I wondered if the section statistics should be later on, or a subsection of \"\"types of accidents\"\"  -I think the references may need tidying so that they are all in the exact same format ie date format etc. I can do that later on, if no-one else does first - if you have any preferences for formatting style on references or want to do it yourself please let me know.\\n\\nThere appears to be a backlog on articles for review so I guess there may be a delay until a reviewer turns up. It's listed in the relevant form eg Wikipedia:Good_article_nominations#Transport  \"\n",
      "Name: comment_text, dtype: object [0 0 0 0 0 0 0 3 0 0 0 0 0 3 5] <class 'numpy.ndarray'>\n",
      "4    You, sir, are my hero. Any chance you remember what page that's on?\n",
      "Name: comment_text, dtype: object [0 0 0 0 0 0 0 0 0 0 0 0 0 0 0] <class 'numpy.ndarray'>\n",
      "5    \"\\n\\nCongratulations from me as well, use the tools well.  · talk \"\n",
      "Name: comment_text, dtype: object [0 0 0 0 0 0 0 1 0 0 0 0 0 1 1] <class 'numpy.ndarray'>\n",
      "6    COCKSUCKER BEFORE YOU PISS AROUND ON MY WORK\n",
      "Name: comment_text, dtype: object [0 0 0 0 0 0 0 2 0 0 0 0 0 0 0] <class 'numpy.ndarray'>\n",
      "7    Your vandalism to the Matt Shirvington article has been reverted.  Please don't do it again, or you will be banned.\n",
      "Name: comment_text, dtype: object [0 0 0 0 0 0 0 1 0 0 0 0 0 1 1] <class 'numpy.ndarray'>\n",
      "8    Sorry if the word 'nonsense' was offensive to you. Anyway, I'm not intending to write anything in the article(wow they would jump on me for vandalism), I'm merely requesting that it be more encyclopedic so one can use it for school as a reference. I have been to the selective breeding page but it's almost a stub. It points to 'animal breeding' which is a short messy article that gives you no info. There must be someone around with expertise in eugenics? 93.161.107.169\n",
      "Name: comment_text, dtype: object [0 0 0 0 0 0 0 0 0 0 0 0 0 0 4] <class 'numpy.ndarray'>\n",
      "9    alignment on this subject and which are contrary to those of DuLithgow\n",
      "Name: comment_text, dtype: object [0 0 0 0 0 0 0 0 0 0 0 0 0 0 0] <class 'numpy.ndarray'>\n"
     ]
    }
   ],
   "source": [
    "print(len(train_x), len(train_y))\n",
    "for xx in range(10):\n",
    "    print(train.iloc[[xx]]['comment_text'], train_x[xx])\n"
   ]
  },
  {
   "cell_type": "code",
   "execution_count": null,
   "metadata": {
    "collapsed": true
   },
   "outputs": [],
   "source": [
    "import torch\n",
    "from torch import nn\n",
    "\n",
    "class LogisticRegression(nn.Module):\n",
    "    def __init__(self, input_size, num_classes=2):\n",
    "        super(LogisticRegression, self).__init__()\n",
    "        self.linear = nn.Linear(input_size, num_classes)\n",
    "    \n",
    "    def forward(self, x):\n",
    "        return self.linear(x)\n",
    "        "
   ]
  },
  {
   "cell_type": "code",
   "execution_count": null,
   "metadata": {
    "collapsed": true
   },
   "outputs": [],
   "source": [
    "#train on data_train with several epochs\n",
    "epochs = 20 #Can also be changed. The higher this value, the more overfit. \n",
    "input_size = 25 #batch size, can be changed\n",
    "num_classes = 2 #Binaray for toxic, or not\n",
    "model = LogisticRegression(input_size, num_classes)\n",
    "#Todo: set loss criterion and optimizer\n",
    "#Run loop of number of epoch, forward and backpass, loss then into optimizer\n",
    "\n"
   ]
  },
  {
   "cell_type": "code",
   "execution_count": null,
   "metadata": {
    "collapsed": true
   },
   "outputs": [],
   "source": [
    "#TODO:\n",
    "#Optimize hyperparameters like batchsize, or learning rate or\n",
    "#Try to add dropout, batch normalization to get highest val acc"
   ]
  },
  {
   "cell_type": "code",
   "execution_count": null,
   "metadata": {
    "collapsed": true
   },
   "outputs": [],
   "source": [
    "#TODO: \n",
    "#Now try test set, hopefully for accuracy as good as validation set"
   ]
  },
  {
   "cell_type": "code",
   "execution_count": null,
   "metadata": {
    "collapsed": true
   },
   "outputs": [],
   "source": []
  },
  {
   "cell_type": "code",
   "execution_count": null,
   "metadata": {
    "collapsed": true
   },
   "outputs": [],
   "source": []
  }
 ],
 "metadata": {
  "kernelspec": {
   "display_name": "Python 3",
   "language": "python",
   "name": "python3"
  },
  "language_info": {
   "codemirror_mode": {
    "name": "ipython",
    "version": 3
   },
   "file_extension": ".py",
   "mimetype": "text/x-python",
   "name": "python",
   "nbconvert_exporter": "python",
   "pygments_lexer": "ipython3",
   "version": "3.6.2"
  }
 },
 "nbformat": 4,
 "nbformat_minor": 2
}
